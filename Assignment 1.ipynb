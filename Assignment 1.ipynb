{
 "cells": [
  {
   "cell_type": "code",
   "execution_count": null,
   "id": "1dc9cf36-55a0-4355-9256-c8248785abdd",
   "metadata": {},
   "outputs": [],
   "source": [
    "#Q1. Create one variable containing following type of data:"
   ]
  },
  {
   "cell_type": "code",
   "execution_count": 1,
   "id": "c7703fac-f1e6-4afa-ace9-181c22f2165a",
   "metadata": {},
   "outputs": [],
   "source": [
    "a = \"Aakarsh\""
   ]
  },
  {
   "cell_type": "code",
   "execution_count": 2,
   "id": "55ba94f1-be6a-432f-a35b-ec60faa3e916",
   "metadata": {},
   "outputs": [
    {
     "data": {
      "text/plain": [
       "'Aakarsh'"
      ]
     },
     "execution_count": 2,
     "metadata": {},
     "output_type": "execute_result"
    }
   ],
   "source": [
    "a"
   ]
  },
  {
   "cell_type": "code",
   "execution_count": 3,
   "id": "cc0a1fc3-d0dd-40dc-9fcb-b45b40329606",
   "metadata": {},
   "outputs": [
    {
     "data": {
      "text/plain": [
       "str"
      ]
     },
     "execution_count": 3,
     "metadata": {},
     "output_type": "execute_result"
    }
   ],
   "source": [
    "type(a)"
   ]
  },
  {
   "cell_type": "code",
   "execution_count": 4,
   "id": "7a52df9f-835f-4fe7-a731-18f15f9ad9e6",
   "metadata": {},
   "outputs": [],
   "source": [
    "l = [26,29, \"aakarsh\" , \"janhvi\", 26.29, True]"
   ]
  },
  {
   "cell_type": "code",
   "execution_count": 5,
   "id": "f305f746-1d21-45ce-b380-37ec18d76ab2",
   "metadata": {},
   "outputs": [
    {
     "data": {
      "text/plain": [
       "list"
      ]
     },
     "execution_count": 5,
     "metadata": {},
     "output_type": "execute_result"
    }
   ],
   "source": [
    "type(l)"
   ]
  },
  {
   "cell_type": "code",
   "execution_count": 6,
   "id": "5558b6a7-4c94-4a96-b8b4-acc1914b2929",
   "metadata": {},
   "outputs": [],
   "source": [
    "b = 31.26"
   ]
  },
  {
   "cell_type": "code",
   "execution_count": 7,
   "id": "0d14da23-e91c-4d4b-adf9-1921b23737db",
   "metadata": {},
   "outputs": [
    {
     "data": {
      "text/plain": [
       "float"
      ]
     },
     "execution_count": 7,
     "metadata": {},
     "output_type": "execute_result"
    }
   ],
   "source": [
    "type(b)"
   ]
  },
  {
   "cell_type": "code",
   "execution_count": 1,
   "id": "3c9ac47d-d74e-4801-a3c2-9011c03f26fc",
   "metadata": {},
   "outputs": [],
   "source": [
    "# creating tuple"
   ]
  },
  {
   "cell_type": "code",
   "execution_count": 3,
   "id": "983f055d-f6d2-4ed3-a84a-337f5f95805a",
   "metadata": {},
   "outputs": [
    {
     "name": "stdout",
     "output_type": "stream",
     "text": [
      "('Aakarsh', 'janhvi')\n"
     ]
    }
   ],
   "source": [
    "mytuple = (\"Aakarsh\",\"janhvi\")\n",
    "print(mytuple)"
   ]
  },
  {
   "cell_type": "code",
   "execution_count": 4,
   "id": "462eba0c-fa46-44da-8624-fed30f81a8a6",
   "metadata": {},
   "outputs": [
    {
     "data": {
      "text/plain": [
       "tuple"
      ]
     },
     "execution_count": 4,
     "metadata": {},
     "output_type": "execute_result"
    }
   ],
   "source": [
    "type(mytuple)"
   ]
  },
  {
   "cell_type": "code",
   "execution_count": 5,
   "id": "230b76c0-b0ca-45d1-ae08-b04a238654f8",
   "metadata": {},
   "outputs": [],
   "source": [
    "# Q2. Given are some following variables containing data:"
   ]
  },
  {
   "cell_type": "code",
   "execution_count": 6,
   "id": "5ac77cf5-bffd-4823-9a3f-554fe3238883",
   "metadata": {},
   "outputs": [],
   "source": [
    "var1 = ''"
   ]
  },
  {
   "cell_type": "code",
   "execution_count": 7,
   "id": "6f6abb41-de5d-454f-ba11-80718593e260",
   "metadata": {},
   "outputs": [
    {
     "data": {
      "text/plain": [
       "str"
      ]
     },
     "execution_count": 7,
     "metadata": {},
     "output_type": "execute_result"
    }
   ],
   "source": [
    "type(var1)"
   ]
  },
  {
   "cell_type": "code",
   "execution_count": 8,
   "id": "d5cb8c0b-e100-4abe-8aef-1b46cc482e5c",
   "metadata": {},
   "outputs": [],
   "source": [
    "var2 = '[ DS , ML , Python]'"
   ]
  },
  {
   "cell_type": "code",
   "execution_count": 11,
   "id": "c8aa6f87-3ea9-4f64-8bb8-a9daeba14bdf",
   "metadata": {},
   "outputs": [
    {
     "data": {
      "text/plain": [
       "str"
      ]
     },
     "execution_count": 11,
     "metadata": {},
     "output_type": "execute_result"
    }
   ],
   "source": [
    "type(var2)"
   ]
  },
  {
   "cell_type": "code",
   "execution_count": 12,
   "id": "f3d105f3-08fe-4a54-9a83-460b0a50a97d",
   "metadata": {},
   "outputs": [],
   "source": [
    "var3 = ['DS', 'ML', 'python']\n"
   ]
  },
  {
   "cell_type": "code",
   "execution_count": 13,
   "id": "583f4431-e226-4c70-8dd9-d8142a885b80",
   "metadata": {},
   "outputs": [
    {
     "data": {
      "text/plain": [
       "list"
      ]
     },
     "execution_count": 13,
     "metadata": {},
     "output_type": "execute_result"
    }
   ],
   "source": [
    "type(var3)"
   ]
  },
  {
   "cell_type": "code",
   "execution_count": 14,
   "id": "efaab5ea-a475-495a-88a9-46bc1898e02b",
   "metadata": {},
   "outputs": [],
   "source": [
    "var4 = 1"
   ]
  },
  {
   "cell_type": "code",
   "execution_count": 15,
   "id": "27a6b75f-7c63-4201-8492-607f0a52cf97",
   "metadata": {},
   "outputs": [
    {
     "data": {
      "text/plain": [
       "int"
      ]
     },
     "execution_count": 15,
     "metadata": {},
     "output_type": "execute_result"
    }
   ],
   "source": [
    "type(var4)"
   ]
  },
  {
   "cell_type": "code",
   "execution_count": 16,
   "id": "b1dc16b1-6f4a-47b2-af62-87b5cc10f8e5",
   "metadata": {},
   "outputs": [],
   "source": [
    "# Q3. Explain the use of the following operators using an example:"
   ]
  },
  {
   "cell_type": "code",
   "execution_count": 18,
   "id": "543cc51b-ade2-471a-9489-68168a8ffbd3",
   "metadata": {},
   "outputs": [],
   "source": [
    "a = 4"
   ]
  },
  {
   "cell_type": "code",
   "execution_count": 19,
   "id": "51ffcdd0-6db1-4ced-97c7-c82e08921221",
   "metadata": {},
   "outputs": [],
   "source": [
    "b = 2"
   ]
  },
  {
   "cell_type": "code",
   "execution_count": 20,
   "id": "0ebd37a6-caa2-48fc-bf55-691ac5a82d2a",
   "metadata": {},
   "outputs": [
    {
     "data": {
      "text/plain": [
       "2.0"
      ]
     },
     "execution_count": 20,
     "metadata": {},
     "output_type": "execute_result"
    }
   ],
   "source": [
    "a/b"
   ]
  },
  {
   "cell_type": "code",
   "execution_count": 21,
   "id": "ea7cbadb-67af-4846-b3e4-d62cf9211ab1",
   "metadata": {},
   "outputs": [],
   "source": [
    "# / devides the number"
   ]
  },
  {
   "cell_type": "code",
   "execution_count": 22,
   "id": "f24e221f-abf7-40b6-83f4-bc8dd44218af",
   "metadata": {},
   "outputs": [],
   "source": [
    "a = 4"
   ]
  },
  {
   "cell_type": "code",
   "execution_count": 23,
   "id": "db6b391e-03b9-41d4-a2f7-fc7dea746573",
   "metadata": {},
   "outputs": [],
   "source": [
    "b = 2"
   ]
  },
  {
   "cell_type": "code",
   "execution_count": 24,
   "id": "7c10f978-6f9c-497e-8fa1-acdb20370e0d",
   "metadata": {},
   "outputs": [
    {
     "data": {
      "text/plain": [
       "0"
      ]
     },
     "execution_count": 24,
     "metadata": {},
     "output_type": "execute_result"
    }
   ],
   "source": [
    "a%b"
   ]
  },
  {
   "cell_type": "code",
   "execution_count": null,
   "id": "dd582ae5-295f-4cc9-8ebf-bd6ab667be5e",
   "metadata": {},
   "outputs": [],
   "source": [
    "#Remainder when a is divided by b"
   ]
  },
  {
   "cell_type": "code",
   "execution_count": 25,
   "id": "96c10ec0-2584-4179-bd92-12dcdde7b438",
   "metadata": {},
   "outputs": [],
   "source": [
    "a= 4"
   ]
  },
  {
   "cell_type": "code",
   "execution_count": 26,
   "id": "d495b47b-95c9-4696-bac3-64d4d6760727",
   "metadata": {},
   "outputs": [],
   "source": [
    "b = 2"
   ]
  },
  {
   "cell_type": "code",
   "execution_count": 27,
   "id": "40c57d50-b7c4-4a7a-80c9-bcac96bb26a5",
   "metadata": {},
   "outputs": [
    {
     "data": {
      "text/plain": [
       "2"
      ]
     },
     "execution_count": 27,
     "metadata": {},
     "output_type": "execute_result"
    }
   ],
   "source": [
    "a//b"
   ]
  },
  {
   "cell_type": "code",
   "execution_count": null,
   "id": "68b08544-770b-41c5-b799-f600a7292fd0",
   "metadata": {},
   "outputs": [],
   "source": [
    "#Quotient when a is divided by b, rounded to the next smallest whole number"
   ]
  },
  {
   "cell_type": "code",
   "execution_count": 28,
   "id": "5658f025-db10-425d-84bb-20cdcd9ef247",
   "metadata": {},
   "outputs": [],
   "source": [
    "a = 4"
   ]
  },
  {
   "cell_type": "code",
   "execution_count": 29,
   "id": "7454bf01-c2c6-4200-ad98-854873f00858",
   "metadata": {},
   "outputs": [],
   "source": [
    "b = 2"
   ]
  },
  {
   "cell_type": "code",
   "execution_count": 30,
   "id": "d25bc844-664e-4108-91ad-827a74a67296",
   "metadata": {},
   "outputs": [
    {
     "data": {
      "text/plain": [
       "16"
      ]
     },
     "execution_count": 30,
     "metadata": {},
     "output_type": "execute_result"
    }
   ],
   "source": [
    "a**b"
   ]
  },
  {
   "cell_type": "code",
   "execution_count": 33,
   "id": "ba67b442-8e1d-4429-ab83-06829663ede0",
   "metadata": {},
   "outputs": [],
   "source": [
    "#a raised to the power of b"
   ]
  },
  {
   "cell_type": "code",
   "execution_count": 34,
   "id": "ffb61200-2dbb-4145-bd9c-ed021ad928d1",
   "metadata": {},
   "outputs": [],
   "source": [
    "# Create a list of length 10 of your choice containing multiple types of data. Using for loop print theelement and its data type.\n"
   ]
  },
  {
   "cell_type": "code",
   "execution_count": 36,
   "id": "e00f4512-1f76-4760-9635-77adc86a4bd2",
   "metadata": {},
   "outputs": [],
   "source": [
    "l = ['Aakarsh', 'janhvi',2,3,4,5,6, 3+4j, True, 26.29 ]"
   ]
  },
  {
   "cell_type": "code",
   "execution_count": 37,
   "id": "e94d64cc-d2d1-4e21-8eda-3697c73c9122",
   "metadata": {},
   "outputs": [
    {
     "name": "stdout",
     "output_type": "stream",
     "text": [
      "<class 'str'>\n",
      "<class 'str'>\n",
      "<class 'int'>\n",
      "<class 'int'>\n",
      "<class 'int'>\n",
      "<class 'int'>\n",
      "<class 'int'>\n",
      "<class 'complex'>\n",
      "<class 'bool'>\n",
      "<class 'float'>\n"
     ]
    }
   ],
   "source": [
    "for i in l :\n",
    "    print(type(i))"
   ]
  },
  {
   "cell_type": "code",
   "execution_count": 38,
   "id": "63596afc-0b5e-46b6-bcea-648127752e88",
   "metadata": {},
   "outputs": [],
   "source": [
    "# Using a while loop, verify if the number A is purely divisible by number B and if so then how many times it can be divisible.\n"
   ]
  },
  {
   "cell_type": "code",
   "execution_count": 39,
   "id": "251073c6-2793-48cf-832c-4ad1318ddb3d",
   "metadata": {},
   "outputs": [
    {
     "name": "stdin",
     "output_type": "stream",
     "text": [
      "Enter the number A:  2\n",
      "Enter the number B:  3\n"
     ]
    },
    {
     "name": "stdout",
     "output_type": "stream",
     "text": [
      "The number A is not divisible by B.\n"
     ]
    }
   ],
   "source": [
    "A = int(input(\"Enter the number A: \"))\n",
    "B = int(input(\"Enter the number B: \"))\n",
    "\n",
    "count = 0\n",
    "while A >= B and A % B == 0:\n",
    "    A /= B\n",
    "    count += 1\n",
    "\n",
    "if count > 0:\n",
    "    print(f\"The number A is divisible by B, and it can be divided {count} times.\")\n",
    "else:\n",
    "    print(\"The number A is not divisible by B.\")"
   ]
  },
  {
   "cell_type": "code",
   "execution_count": 41,
   "id": "d62c25fe-4d75-458c-821c-a872fe4397b3",
   "metadata": {},
   "outputs": [],
   "source": [
    "#Create a list containing 25 int type data. Using for loop and if-else condition print if the element is ivisible by 3 or not.\n"
   ]
  },
  {
   "cell_type": "code",
   "execution_count": 42,
   "id": "2333ac61-d27a-45c3-aaf3-24be8d783def",
   "metadata": {},
   "outputs": [],
   "source": [
    "numbers = [2,3,4,5,6,7,8,9,0,0,9,8,7,6,5,4,3,2,1,1,2,3,4,5,6]"
   ]
  },
  {
   "cell_type": "code",
   "execution_count": 46,
   "id": "07f2c7fc-47e3-4171-aa2a-a50824db4749",
   "metadata": {},
   "outputs": [
    {
     "name": "stdout",
     "output_type": "stream",
     "text": [
      "num is not divisible by 3\n",
      "num is divisible by 3\n",
      "num is not divisible by 3\n",
      "num is not divisible by 3\n",
      "num is divisible by 3\n",
      "num is not divisible by 3\n",
      "num is not divisible by 3\n",
      "num is divisible by 3\n",
      "num is divisible by 3\n",
      "num is divisible by 3\n",
      "num is divisible by 3\n",
      "num is not divisible by 3\n",
      "num is not divisible by 3\n",
      "num is divisible by 3\n",
      "num is not divisible by 3\n",
      "num is not divisible by 3\n",
      "num is divisible by 3\n",
      "num is not divisible by 3\n",
      "num is not divisible by 3\n",
      "num is not divisible by 3\n",
      "num is not divisible by 3\n",
      "num is divisible by 3\n",
      "num is not divisible by 3\n",
      "num is not divisible by 3\n",
      "num is divisible by 3\n"
     ]
    }
   ],
   "source": [
    "for num in numbers :\n",
    "    if num % 3 == 0 :\n",
    "        print(\"num is divisible by 3\")\n",
    "    else:\n",
    "        print(\"num is not divisible by 3\")"
   ]
  },
  {
   "cell_type": "code",
   "execution_count": 47,
   "id": "7312eb1a-3b61-4f51-abea-cb4f1965396e",
   "metadata": {},
   "outputs": [],
   "source": [
    "#What do you understand about mutable and immutable data types? Give examples for both showing this property.\n"
   ]
  },
  {
   "cell_type": "code",
   "execution_count": 48,
   "id": "6812577c-173d-45e7-800a-de61bd58f399",
   "metadata": {},
   "outputs": [],
   "source": [
    "# immuatable data typs\n",
    "# Numbers (int, float, complex)\n",
    "#Strings\n",
    "#Tuples\n"
   ]
  },
  {
   "cell_type": "code",
   "execution_count": null,
   "id": "f583d37a-2239-4072-92c0-666092f94c48",
   "metadata": {},
   "outputs": [],
   "source": []
  }
 ],
 "metadata": {
  "kernelspec": {
   "display_name": "Python 3 (ipykernel)",
   "language": "python",
   "name": "python3"
  },
  "language_info": {
   "codemirror_mode": {
    "name": "ipython",
    "version": 3
   },
   "file_extension": ".py",
   "mimetype": "text/x-python",
   "name": "python",
   "nbconvert_exporter": "python",
   "pygments_lexer": "ipython3",
   "version": "3.10.8"
  }
 },
 "nbformat": 4,
 "nbformat_minor": 5
}
